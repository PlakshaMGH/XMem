{
 "cells": [
  {
   "cell_type": "code",
   "execution_count": 1,
   "metadata": {},
   "outputs": [],
   "source": [
    "import os\n",
    "import sys\n",
    "\n",
    "XMem_path = os.path.abspath('../')\n",
    "sys.path.append(XMem_path)"
   ]
  },
  {
   "cell_type": "code",
   "execution_count": 5,
   "metadata": {},
   "outputs": [],
   "source": [
    "from pathlib import Path\n",
    "\n",
    "import torch\n",
    "\n",
    "from inference.data.mask_mapper import MaskMapper\n",
    "from inference.data.video_reader import VideoReader"
   ]
  },
  {
   "cell_type": "code",
   "execution_count": 3,
   "metadata": {},
   "outputs": [],
   "source": [
    "data_path = Path('/Users/syedal/plaksha/SurgicalAI/data/endovis/endo17/data')\n",
    "\n",
    "frames_path = data_path / 'frames/test/instrument_dataset_01'\n",
    "masks_path = data_path / 'masks/test/binary_masks/instrument_dataset_01'\n",
    "vid_reader = VideoReader(frames_path, frames_path, masks_path, size=384)"
   ]
  },
  {
   "cell_type": "code",
   "execution_count": null,
   "metadata": {},
   "outputs": [],
   "source": [
    "mapper = MaskMapper()"
   ]
  },
  {
   "cell_type": "code",
   "execution_count": null,
   "metadata": {},
   "outputs": [],
   "source": [
    "msk, labels = mapper.convert_mask(msk[0].numpy())\n",
    "msk = torch.Tensor(msk).cuda()\n",
    "if True:\n",
    "    msk = vid_reader.resize_mask(msk.unsqueeze(0))[0]\n",
    "processor.set_all_labels(list(mapper.remappings.values()))"
   ]
  }
 ],
 "metadata": {
  "kernelspec": {
   "display_name": ".venv",
   "language": "python",
   "name": "python3"
  },
  "language_info": {
   "codemirror_mode": {
    "name": "ipython",
    "version": 3
   },
   "file_extension": ".py",
   "mimetype": "text/x-python",
   "name": "python",
   "nbconvert_exporter": "python",
   "pygments_lexer": "ipython3",
   "version": "3.12.6"
  }
 },
 "nbformat": 4,
 "nbformat_minor": 2
}
